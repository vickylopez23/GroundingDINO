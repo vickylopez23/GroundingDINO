{
  "cells": [
    {
      "cell_type": "markdown",
      "metadata": {
        "id": "PSbs0qbULMk7"
      },
      "source": [
        "## Before you start\n",
        "\n",
        "Let's make sure that we have access to GPU. We can use `nvidia-smi` command to do that. In case of any problems navigate to `Edit` -> `Notebook settings` -> `Hardware accelerator`, set it to `GPU`, and then click `Save`."
      ]
    },
    {
      "cell_type": "code",
      "execution_count": null,
      "metadata": {
        "colab": {
          "base_uri": "https://localhost:8080/"
        },
        "id": "o2kSrSPdP9YS",
        "outputId": "a67fa2fd-2f01-4318-bdc0-61d94e2d9dc8"
      },
      "outputs": [
        {
          "output_type": "stream",
          "name": "stdout",
          "text": [
            "Fri Aug 22 19:02:39 2025       \n",
            "+-----------------------------------------------------------------------------------------+\n",
            "| NVIDIA-SMI 550.54.15              Driver Version: 550.54.15      CUDA Version: 12.4     |\n",
            "|-----------------------------------------+------------------------+----------------------+\n",
            "| GPU  Name                 Persistence-M | Bus-Id          Disp.A | Volatile Uncorr. ECC |\n",
            "| Fan  Temp   Perf          Pwr:Usage/Cap |           Memory-Usage | GPU-Util  Compute M. |\n",
            "|                                         |                        |               MIG M. |\n",
            "|=========================================+========================+======================|\n",
            "|   0  Tesla T4                       Off |   00000000:00:04.0 Off |                    0 |\n",
            "| N/A   56C    P8             10W /   70W |       0MiB /  15360MiB |      0%      Default |\n",
            "|                                         |                        |                  N/A |\n",
            "+-----------------------------------------+------------------------+----------------------+\n",
            "                                                                                         \n",
            "+-----------------------------------------------------------------------------------------+\n",
            "| Processes:                                                                              |\n",
            "|  GPU   GI   CI        PID   Type   Process name                              GPU Memory |\n",
            "|        ID   ID                                                               Usage      |\n",
            "|=========================================================================================|\n",
            "|  No running processes found                                                             |\n",
            "+-----------------------------------------------------------------------------------------+\n"
          ]
        }
      ],
      "source": [
        "!nvidia-smi"
      ]
    },
    {
      "cell_type": "code",
      "execution_count": null,
      "metadata": {
        "colab": {
          "base_uri": "https://localhost:8080/"
        },
        "id": "pdsIsTKIRxMS",
        "outputId": "156ecbeb-80ec-4671-8a3a-c3da695de4d0"
      },
      "outputs": [
        {
          "output_type": "stream",
          "name": "stdout",
          "text": [
            "/content\n"
          ]
        }
      ],
      "source": [
        "import os\n",
        "HOME = os.getcwd()\n",
        "print(HOME)"
      ]
    },
    {
      "cell_type": "markdown",
      "metadata": {
        "id": "zkrSv4BjMCce"
      },
      "source": [
        "## Install Grounding DINO 🦕"
      ]
    },
    {
      "cell_type": "code",
      "execution_count": null,
      "metadata": {
        "colab": {
          "base_uri": "https://localhost:8080/"
        },
        "id": "8er1uLGdSQvy",
        "outputId": "cbd27348-2612-4cbb-c5db-3d872717072a"
      },
      "outputs": [
        {
          "output_type": "stream",
          "name": "stdout",
          "text": [
            "/content\n",
            "Cloning into 'GroundingDINO'...\n",
            "remote: Enumerating objects: 463, done.\u001b[K\n",
            "remote: Total 463 (delta 0), reused 0 (delta 0), pack-reused 463 (from 1)\u001b[K\n",
            "Receiving objects: 100% (463/463), 12.91 MiB | 14.99 MiB/s, done.\n",
            "Resolving deltas: 100% (220/220), done.\n"
          ]
        }
      ],
      "source": [
        "%cd {HOME}\n",
        "!git clone https://github.com/IDEA-Research/GroundingDINO.git\n"
      ]
    },
    {
      "cell_type": "code",
      "execution_count": null,
      "metadata": {
        "colab": {
          "base_uri": "https://localhost:8080/"
        },
        "id": "xwadM53RbvJs",
        "outputId": "66edc738-d52d-4191-f4bc-ed2224410555"
      },
      "outputs": [
        {
          "output_type": "stream",
          "name": "stdout",
          "text": [
            "/content/GroundingDINO/groundingdino/models/GroundingDINO/csrc/MsDeformAttn\n"
          ]
        }
      ],
      "source": [
        "%cd /content/GroundingDINO/groundingdino/models/GroundingDINO/csrc/MsDeformAttn\n",
        "!sed -i 's/value.type()/value.scalar_type()/g' ms_deform_attn_cuda.cu\n",
        "!sed -i 's/value.scalar_type().is_cuda()/value.is_cuda()/g' ms_deform_attn_cuda.cu"
      ]
    },
    {
      "cell_type": "code",
      "execution_count": null,
      "metadata": {
        "colab": {
          "base_uri": "https://localhost:8080/"
        },
        "id": "HPJk8w7DbuEH",
        "outputId": "7f9aafd6-751c-46e2-e9f1-254bd0171042"
      },
      "outputs": [
        {
          "output_type": "stream",
          "name": "stdout",
          "text": [
            "/content/GroundingDINO\n",
            "  Preparing metadata (setup.py) ... \u001b[?25l\u001b[?25hdone\n",
            "\u001b[2K     \u001b[90m━━━━━━━━━━━━━━━━━━━━━━━━━━━━━━━━━━━━━━━━\u001b[0m \u001b[32m46.8/46.8 kB\u001b[0m \u001b[31m3.3 MB/s\u001b[0m eta \u001b[36m0:00:00\u001b[0m\n",
            "\u001b[2K   \u001b[90m━━━━━━━━━━━━━━━━━━━━━━━━━━━━━━━━━━━━━━━━\u001b[0m \u001b[32m207.2/207.2 kB\u001b[0m \u001b[31m8.3 MB/s\u001b[0m eta \u001b[36m0:00:00\u001b[0m\n",
            "\u001b[2K   \u001b[90m━━━━━━━━━━━━━━━━━━━━━━━━━━━━━━━━━━━━━━━━\u001b[0m \u001b[32m256.2/256.2 kB\u001b[0m \u001b[31m23.6 MB/s\u001b[0m eta \u001b[36m0:00:00\u001b[0m\n",
            "\u001b[2K   \u001b[90m━━━━━━━━━━━━━━━━━━━━━━━━━━━━━━━━━━━━━━━━\u001b[0m \u001b[32m88.6/88.6 kB\u001b[0m \u001b[31m5.6 MB/s\u001b[0m eta \u001b[36m0:00:00\u001b[0m\n",
            "\u001b[2K   \u001b[90m━━━━━━━━━━━━━━━━━━━━━━━━━━━━━━━━━━━━━━━━\u001b[0m \u001b[32m66.8/66.8 kB\u001b[0m \u001b[31m6.2 MB/s\u001b[0m eta \u001b[36m0:00:00\u001b[0m\n",
            "\u001b[2K   \u001b[90m━━━━━━━━━━━━━━━━━━━━━━━━━━━━━━━━━━━━━━━━\u001b[0m \u001b[32m49.9/49.9 MB\u001b[0m \u001b[31m16.7 MB/s\u001b[0m eta \u001b[36m0:00:00\u001b[0m\n",
            "\u001b[2K   \u001b[90m━━━━━━━━━━━━━━━━━━━━━━━━━━━━━━━━━━━━━━━━\u001b[0m \u001b[32m1.4/1.4 MB\u001b[0m \u001b[31m79.9 MB/s\u001b[0m eta \u001b[36m0:00:00\u001b[0m\n",
            "\u001b[2K   \u001b[90m━━━━━━━━━━━━━━━━━━━━━━━━━━━━━━━━━━━━━━━━\u001b[0m \u001b[32m4.2/4.2 MB\u001b[0m \u001b[31m110.6 MB/s\u001b[0m eta \u001b[36m0:00:00\u001b[0m\n",
            "\u001b[?25h"
          ]
        }
      ],
      "source": [
        "%cd {HOME}/GroundingDINO\n",
        "!pip install -q -e .\n",
        "!pip install -q roboflow"
      ]
    },
    {
      "cell_type": "code",
      "source": [],
      "metadata": {
        "id": "QBjEhY9oKuWv"
      },
      "execution_count": null,
      "outputs": []
    },
    {
      "cell_type": "code",
      "execution_count": null,
      "metadata": {
        "colab": {
          "base_uri": "https://localhost:8080/"
        },
        "id": "Nkrkkj7CUlkh",
        "outputId": "49208ae6-1345-4f15-8898-c1e2003123c7"
      },
      "outputs": [
        {
          "output_type": "stream",
          "name": "stdout",
          "text": [
            "/content/GroundingDINO/groundingdino/config/GroundingDINO_SwinT_OGC.py ; exist: True\n"
          ]
        }
      ],
      "source": [
        "import os\n",
        "\n",
        "CONFIG_PATH = os.path.join(HOME, \"GroundingDINO/groundingdino/config/GroundingDINO_SwinT_OGC.py\")\n",
        "print(CONFIG_PATH, \"; exist:\", os.path.isfile(CONFIG_PATH))"
      ]
    },
    {
      "cell_type": "markdown",
      "metadata": {
        "id": "w5XwJupYO4L7"
      },
      "source": [
        "## Download Grounding DINO Weights 🏋️"
      ]
    },
    {
      "cell_type": "code",
      "execution_count": null,
      "metadata": {
        "colab": {
          "base_uri": "https://localhost:8080/"
        },
        "id": "wcYHE6buT_L-",
        "outputId": "bc4ae00b-3510-456d-fbc2-9a4bd7ab0482"
      },
      "outputs": [
        {
          "output_type": "stream",
          "name": "stdout",
          "text": [
            "/content\n",
            "/content/weights\n"
          ]
        }
      ],
      "source": [
        "%cd {HOME}\n",
        "!mkdir {HOME}/weights\n",
        "%cd {HOME}/weights\n",
        "\n",
        "!wget -q https://github.com/IDEA-Research/GroundingDINO/releases/download/v0.1.0-alpha/groundingdino_swint_ogc.pth"
      ]
    },
    {
      "cell_type": "code",
      "execution_count": null,
      "metadata": {
        "colab": {
          "base_uri": "https://localhost:8080/"
        },
        "id": "3t97tFbEUS3-",
        "outputId": "c183f07d-f7d5-4123-b312-9ccbcc4b532d"
      },
      "outputs": [
        {
          "output_type": "stream",
          "name": "stdout",
          "text": [
            "/content/weights/groundingdino_swint_ogc.pth ; exist: True\n"
          ]
        }
      ],
      "source": [
        "import os\n",
        "\n",
        "WEIGHTS_NAME = \"groundingdino_swint_ogc.pth\"\n",
        "WEIGHTS_PATH = os.path.join(HOME, \"weights\", WEIGHTS_NAME)\n",
        "print(WEIGHTS_PATH, \"; exist:\", os.path.isfile(WEIGHTS_PATH))"
      ]
    },
    {
      "cell_type": "markdown",
      "metadata": {
        "id": "-pKiv3-CPaVn"
      },
      "source": [
        "## Download Example Data"
      ]
    },
    {
      "cell_type": "code",
      "execution_count": null,
      "metadata": {
        "colab": {
          "base_uri": "https://localhost:8080/"
        },
        "id": "fWpsrHf6TZPI",
        "outputId": "d07b7eed-bdc8-4d52-eb83-e12e4be85266"
      },
      "outputs": [
        {
          "output_type": "stream",
          "name": "stdout",
          "text": [
            "/content\n",
            "/content/data\n"
          ]
        }
      ],
      "source": [
        "%cd {HOME}\n",
        "!mkdir {HOME}/data\n",
        "%cd {HOME}/data\n"
      ]
    },
    {
      "cell_type": "markdown",
      "metadata": {
        "id": "XehYdTlPQkim"
      },
      "source": [
        "## Load Grounding DINO Model"
      ]
    },
    {
      "cell_type": "code",
      "execution_count": null,
      "metadata": {
        "colab": {
          "base_uri": "https://localhost:8080/",
          "height": 371,
          "referenced_widgets": [
            "066c1e1bbf9d4e04b7e2dccf65aace1e",
            "66b072aaffd0407fa364a65dac6c0608",
            "ca8fa0c0cc434da2831b67cc51be2f00",
            "290c402737904a83a8877d2fbc8564ba",
            "aac1e678defa410dbdfca74493dd630e",
            "66941e91ca204090beb353aecf7253c3",
            "3dc45a866fec4b6c90885b051bfde091",
            "3858119d8ac24627879d973393c64c94",
            "39d62926a3fb412aa99802ab658e0d72",
            "26504b336638488d815940a27b0d62ec",
            "96c70ab395b84b9e8c7e9733035be27d",
            "972ed82f9b7245a98541a39917982777",
            "34bf43a7136e4940b5b5d8412b38d3e4",
            "8d527e702c2e447eb77abf2b4c8dee7b",
            "3bb07fbd6cf143fe9f0dc0abf43f053e",
            "eb7e5354acda485584e24a6932fb51be",
            "3a308c5caf2845fb83c17bf8f0232052",
            "39aaaf5fcaf84db49ea2532df2615a6e",
            "8cfcd1697b06450f8b2fa1c787ee3e2f",
            "92fa09411dc345ab86887aa1e2846043",
            "669b2dc4bb7a400cad44e0a6383e9dc5",
            "5934e477b49e4bb3b1e27ecf9649e3d4",
            "6bd4d62ffd10418ea3e222ea9304200a",
            "2142f545dbf44cc2a6411346412b7858",
            "68134ee8c74a43f9abfe5af21870278b",
            "870bfd263e6a4b4fbc201ae9d588c980",
            "6d5653aaca08449ead047f102c4b159a",
            "0c6869067052424eba62440f028ad236",
            "f927bf0cfc044287b9bd784d1e59cb0f",
            "d0d3a5feee784dc1b33207f8d0c18e02",
            "a339784b2a4145f48138ff6efcf609be",
            "9e867e499ec64b4382d911e804bb8581",
            "d8ecd4117fd14370b9457dc76b0b7f48",
            "50e3688fec5f43b58cb704f5a68c6d3b",
            "ad9a56d8f39e45daadc4c4b1808be332",
            "6e12ea8025954109b52359dcb467940d",
            "5b2562284c8c4b5a99c3bc672f67c683",
            "db83a3da856f4d55923a573b016ee14b",
            "1277e30eed5e4a48874bdf5e186fdd2e",
            "d09267038d4d43e1aae65c14468aa08f",
            "f6e71f74dbdb4f0ca54f6339bae679e4",
            "cfd722cae345406b8431e864645158d9",
            "56bc3c2c1d474777a17eac6a13593c6a",
            "d12fdf97fb594a0896593bdfc6c2cc48",
            "2093cde86a754a71b17a93fa19cd6a8c",
            "1a740bb8a9ee436389170d259053df7f",
            "237076d2a6d147b2a3ab521eefa0ffc4",
            "5155f3e30ab24effae82fbda699448e4",
            "3532ae75e8d34d55843f6d3e09a5a200",
            "cdfda1f97f6d43baa329918dfc380417",
            "0862967df385467bb95b6481140a7c3e",
            "0e4b27fb8b974507beb69efd69f03cce",
            "d05e799951674045baee282d0823a8dd",
            "b4d73721aabc4385933855dabbbbcd53",
            "e4972022d5ee4032bbd774823d10a2e4"
          ]
        },
        "id": "rH62Frfih5lY",
        "outputId": "1b6a8200-5df4-4853-c0e2-9d06016f1e20"
      },
      "outputs": [
        {
          "output_type": "stream",
          "name": "stdout",
          "text": [
            "/content/GroundingDINO\n"
          ]
        },
        {
          "output_type": "stream",
          "name": "stderr",
          "text": [
            "FutureWarning: Importing from timm.models.layers is deprecated, please import via timm.layers\n",
            "SyntaxWarning: invalid escape sequence '\\s'\n",
            "UserWarning: torch.meshgrid: in an upcoming release, it will be required to pass the indexing argument. (Triggered internally at /pytorch/aten/src/ATen/native/TensorShape.cpp:4322.)\n"
          ]
        },
        {
          "output_type": "stream",
          "name": "stdout",
          "text": [
            "final text_encoder_type: bert-base-uncased\n"
          ]
        },
        {
          "output_type": "stream",
          "name": "stderr",
          "text": [
            "UserWarning: \n",
            "The secret `HF_TOKEN` does not exist in your Colab secrets.\n",
            "To authenticate with the Hugging Face Hub, create a token in your settings tab (https://huggingface.co/settings/tokens), set it as secret in your Google Colab and restart your session.\n",
            "You will be able to reuse this secret in all of your notebooks.\n",
            "Please note that authentication is recommended but still optional to access public models or datasets.\n"
          ]
        },
        {
          "output_type": "display_data",
          "data": {
            "text/plain": [
              "tokenizer_config.json:   0%|          | 0.00/48.0 [00:00<?, ?B/s]"
            ],
            "application/vnd.jupyter.widget-view+json": {
              "version_major": 2,
              "version_minor": 0,
              "model_id": "066c1e1bbf9d4e04b7e2dccf65aace1e"
            }
          },
          "metadata": {}
        },
        {
          "output_type": "display_data",
          "data": {
            "text/plain": [
              "config.json:   0%|          | 0.00/570 [00:00<?, ?B/s]"
            ],
            "application/vnd.jupyter.widget-view+json": {
              "version_major": 2,
              "version_minor": 0,
              "model_id": "972ed82f9b7245a98541a39917982777"
            }
          },
          "metadata": {}
        },
        {
          "output_type": "display_data",
          "data": {
            "text/plain": [
              "vocab.txt:   0%|          | 0.00/232k [00:00<?, ?B/s]"
            ],
            "application/vnd.jupyter.widget-view+json": {
              "version_major": 2,
              "version_minor": 0,
              "model_id": "6bd4d62ffd10418ea3e222ea9304200a"
            }
          },
          "metadata": {}
        },
        {
          "output_type": "display_data",
          "data": {
            "text/plain": [
              "tokenizer.json:   0%|          | 0.00/466k [00:00<?, ?B/s]"
            ],
            "application/vnd.jupyter.widget-view+json": {
              "version_major": 2,
              "version_minor": 0,
              "model_id": "50e3688fec5f43b58cb704f5a68c6d3b"
            }
          },
          "metadata": {}
        },
        {
          "output_type": "display_data",
          "data": {
            "text/plain": [
              "model.safetensors:   0%|          | 0.00/440M [00:00<?, ?B/s]"
            ],
            "application/vnd.jupyter.widget-view+json": {
              "version_major": 2,
              "version_minor": 0,
              "model_id": "2093cde86a754a71b17a93fa19cd6a8c"
            }
          },
          "metadata": {}
        }
      ],
      "source": [
        "%cd {HOME}/GroundingDINO\n",
        "\n",
        "from groundingdino.util.inference import load_model, load_image, predict, annotate\n",
        "\n",
        "model = load_model(CONFIG_PATH, WEIGHTS_PATH)"
      ]
    },
    {
      "cell_type": "markdown",
      "metadata": {
        "id": "Dwhq3RgwQ5Y0"
      },
      "source": [
        "## Grounding DINO Demo"
      ]
    },
    {
      "cell_type": "code",
      "execution_count": null,
      "metadata": {
        "id": "LGbnvGL4c2wN"
      },
      "outputs": [],
      "source": [
        "!pip install -q segment_anything"
      ]
    },
    {
      "cell_type": "code",
      "execution_count": null,
      "metadata": {
        "colab": {
          "base_uri": "https://localhost:8080/"
        },
        "id": "YdbRmeZxc-fW",
        "outputId": "84add808-4335-4f9d-ee57-da260d07cdb1"
      },
      "outputs": [
        {
          "output_type": "stream",
          "name": "stdout",
          "text": [
            "/content/weights\n"
          ]
        }
      ],
      "source": [
        "%cd {HOME}/weights\n",
        "!wget -q https://dl.fbaipublicfiles.com/segment_anything/sam_vit_h_4b8939.pth"
      ]
    },
    {
      "cell_type": "code",
      "execution_count": null,
      "metadata": {
        "colab": {
          "base_uri": "https://localhost:8080/"
        },
        "id": "E_AoVzaHdDmZ",
        "outputId": "5cf845e0-b7cc-48ff-c619-64d2b87a76ac"
      },
      "outputs": [
        {
          "output_type": "stream",
          "name": "stdout",
          "text": [
            "--2025-08-22 19:05:29--  https://dl.fbaipublicfiles.com/segment_anything/sam_vit_h_4b8939.pth\n",
            "Resolving dl.fbaipublicfiles.com (dl.fbaipublicfiles.com)... 52.222.244.122, 52.222.244.102, 52.222.244.33, ...\n",
            "Connecting to dl.fbaipublicfiles.com (dl.fbaipublicfiles.com)|52.222.244.122|:443... connected.\n",
            "HTTP request sent, awaiting response... 200 OK\n",
            "Length: 2564550879 (2.4G) [binary/octet-stream]\n",
            "Saving to: ‘/content/weights/sam_vit_h_4b8939.pth’\n",
            "\n",
            "/content/weights/sa 100%[===================>]   2.39G   164MB/s    in 21s     \n",
            "\n",
            "2025-08-22 19:05:50 (117 MB/s) - ‘/content/weights/sam_vit_h_4b8939.pth’ saved [2564550879/2564550879]\n",
            "\n"
          ]
        }
      ],
      "source": [
        "# Descargar el checkpoint de SAM (vit_h)\n",
        "!mkdir -p /content/weights\n",
        "!wget -O /content/weights/sam_vit_h_4b8939.pth \\\n",
        "  https://dl.fbaipublicfiles.com/segment_anything/sam_vit_h_4b8939.pth\n"
      ]
    },
    {
      "cell_type": "code",
      "execution_count": null,
      "metadata": {
        "colab": {
          "base_uri": "https://localhost:8080/"
        },
        "id": "kB2yhc3ojU94",
        "outputId": "5c67d9d1-d8ea-40e3-a49b-f54eb5aabcc2"
      },
      "outputs": [
        {
          "output_type": "stream",
          "name": "stdout",
          "text": [
            "✅ Cargando GroundingDINO\n",
            " - CFG: /content/GroundingDINO/groundingdino/config/GroundingDINO_SwinT_OGC.py\n",
            " - Weights: /content/weights/groundingdino_swint_ogc.pth\n",
            "final text_encoder_type: bert-base-uncased\n",
            "\n",
            " Procesando: patch_0_20230801_20240331.png\n"
          ]
        },
        {
          "output_type": "stream",
          "name": "stderr",
          "text": [
            "FutureWarning: The `device` argument is deprecated and will be removed in v5 of Transformers.\n",
            "UserWarning: torch.utils.checkpoint: the use_reentrant parameter should be passed explicitly. In version 2.5 we will raise an exception if use_reentrant is not passed. use_reentrant=False is recommended, but if you need to preserve the current default behavior, you can pass use_reentrant=True. Refer to docs for more details on the differences between the two variants.\n",
            "UserWarning: None of the inputs have requires_grad=True. Gradients will be None\n",
            "FutureWarning: `torch.cuda.amp.autocast(args...)` is deprecated. Please use `torch.amp.autocast('cuda', args...)` instead.\n",
            "UserWarning: To copy construct from a tensor, it is recommended to use sourceTensor.detach().clone() or sourceTensor.detach().clone().requires_grad_(True), rather than torch.tensor(sourceTensor).\n",
            "UserWarning: To copy construct from a tensor, it is recommended to use sourceTensor.detach().clone() or sourceTensor.detach().clone().requires_grad_(True), rather than torch.tensor(sourceTensor).\n"
          ]
        },
        {
          "output_type": "stream",
          "name": "stdout",
          "text": [
            "\n",
            " Procesando: patch_10_20230801_20240331.png\n",
            "\n",
            " Procesando: patch_1_20230801_20240331.png\n",
            "\n",
            " Procesando: patch_2_20230801_20240331.png\n",
            "\n",
            " Procesando: patch_3_20230801_20240331.png\n",
            "\n",
            " Procesando: patch_4_20230801_20240331.png\n",
            "\n",
            " Procesando: patch_5_20230801_20240331.png\n",
            "\n",
            " Procesando: patch_6_20230801_20240331.png\n",
            "\n",
            " Procesando: patch_7_20230801_20240331.png\n",
            "\n",
            " Procesando: patch_8_20230801_20240331.png\n",
            "\n",
            " Procesando: patch_9_20230801_20240331.png\n",
            "\n",
            "✅ Detección + segmentación completadas (con combinados por parche).\n"
          ]
        }
      ],
      "source": [
        "#!/usr/bin/env python3\n",
        "# -*- coding: utf-8 -*-\n",
        "\n",
        "import os, json\n",
        "from pathlib import Path\n",
        "import torch\n",
        "import numpy as np\n",
        "import cv2\n",
        "from PIL import Image\n",
        "\n",
        "# GroundingDINO\n",
        "from groundingdino.util.inference import load_model, load_image, predict, annotate\n",
        "\n",
        "# SAM\n",
        "from segment_anything import sam_model_registry, SamPredictor\n",
        "\n",
        "# =========================\n",
        "# Configuración general\n",
        "# =========================\n",
        "CARPETA_IMAGENES        = \"/content/data\"\n",
        "CARPETA_SALIDA_IMAGENES = \"/content/listos\"\n",
        "CARPETA_SALIDA_COORDS   = \"/content/coords\"\n",
        "CARPETA_SALIDA_MASKS    = \"/content/masks\"\n",
        "\n",
        "TEXT_PROMPT = [\n",
        "    \"satellite view circle\",\n",
        "    \"satellite crop circle\",\n",
        "    \"satellite view crop circle\",\n",
        "    \"circle\"\n",
        "]\n",
        "\n",
        "BOX_THRESHOLD  = 0.30 #confianza mínima de la detección.\n",
        "TEXT_THRESHOLD = 0.30 #similitud mínima entre texto y objeto.\n",
        "NMS_IOU        = 0.40 #cuánto pueden solaparse dos cajas antes de descartar una\n",
        "\n",
        "DEVICE = \"cuda\" if torch.cuda.is_available() else \"cpu\"\n",
        "\n",
        "# modelos\n",
        "CFG_PATH       = \"/content/GroundingDINO/groundingdino/config/GroundingDINO_SwinT_OGC.py\"\n",
        "WEIGHTS_PATH   = \"/content/weights/groundingdino_swint_ogc.pth\"\n",
        "SAM_MODEL_TYPE = \"vit_h\"\n",
        "SAM_CKPT       = \"/content/weights/sam_vit_h_4b8939.pth\"\n",
        "\n",
        "# formatos aceptados\n",
        "EXTS = {\".png\", \".jpg\", \".jpeg\", \".tif\", \".tiff\", \".bmp\", \".webp\"}\n",
        "\n",
        "# =========================\n",
        "# Utils\n",
        "# =========================\n",
        "def ensure_dirs():\n",
        "    \"\"\"Crea las carpetas de salida si no existen.\"\"\"\n",
        "    for c in [CARPETA_SALIDA_IMAGENES, CARPETA_SALIDA_COORDS, CARPETA_SALIDA_MASKS]:\n",
        "        Path(c).mkdir(parents=True, exist_ok=True)\n",
        "\n",
        "def cxcywh_norm_to_xyxy_abs(boxes_norm: torch.Tensor, W: int, H: int):\n",
        "    \"\"\"Convierte coordenadas normalizadas (cx, cy, w, h) a coordenadas absolutas (x1, y1, x2, y2).\"\"\"\n",
        "    scale = torch.tensor([W, H, W, H], dtype=boxes_norm.dtype, device=boxes_norm.device)\n",
        "    cxcywh_abs = boxes_norm * scale\n",
        "    cx, cy, w, h = cxcywh_abs.unbind(-1)\n",
        "    x1 = cx - w/2; y1 = cy - h/2\n",
        "    x2 = cx + w/2; y2 = cy + h/2\n",
        "    return torch.stack([x1, y1, x2, y2], dim=-1), cxcywh_abs\n",
        "\n",
        "def clip_xyxy(xyxy: torch.Tensor, W: int, H: int):\n",
        "    \"\"\"Recorta las coordenadas (x1, y1, x2, y2) a los límites de la imagen.\"\"\"\n",
        "    xyxy[..., 0::2] = xyxy[..., 0::2].clamp(0, W-1)\n",
        "    xyxy[..., 1::2] = xyxy[..., 1::2].clamp(0, H-1)\n",
        "    return xyxy\n",
        "\n",
        "def nms_torch(xyxy: torch.Tensor, scores: torch.Tensor, iou_thr: float):\n",
        "    \"\"\"Aplica Non-Maximum Suppression (NMS) a las detecciones.\"\"\"\n",
        "    idxs = scores.argsort(descending=True)\n",
        "    keep = []\n",
        "    while idxs.numel() > 0:\n",
        "        i = idxs[0]; keep.append(i.item())\n",
        "        if idxs.numel() == 1: break\n",
        "        rest = idxs[1:]\n",
        "        xx1 = torch.maximum(xyxy[i,0], xyxy[rest,0])\n",
        "        yy1 = torch.maximum(xyxy[i,1], xyxy[rest,1])\n",
        "        xx2 = torch.minimum(xyxy[i,2], xyxy[rest,2])\n",
        "        yy2 = torch.minimum(xyxy[i,3], xyxy[rest,3])\n",
        "        w = (xx2-xx1).clamp(min=0); h=(yy2-yy1).clamp(min=0)\n",
        "        inter = w*h\n",
        "        area_i = (xyxy[i,2]-xyxy[i,0])*(xyxy[i,3]-xyxy[i,1])\n",
        "        area_r = (xyxy[rest,2]-xyxy[rest,0])*(xyxy[rest,3]-xyxy[rest,1])\n",
        "        iou = inter / (area_i + area_r - inter + 1e-8)\n",
        "        idxs = rest[iou <= iou_thr]\n",
        "    return torch.tensor(keep, dtype=torch.long)\n",
        "\n",
        "# =========================\n",
        "# SAM segmentación\n",
        "# =========================\n",
        "def segmentar_con_sam(img_bgr: np.ndarray, boxes_xyxy: np.ndarray):\n",
        "    \"\"\"\n",
        "    Segmenta la imagen utilizando el modelo SAM y las cajas delimitadoras proporcionadas.\n",
        "    \"\"\"\n",
        "\n",
        "    # Convertir a RGB (BGR a RGB)\n",
        "    img_rgb = cv2.cvtColor(img_bgr, cv2.COLOR_BGR2RGB)\n",
        "    H, W = img_rgb.shape[:2]\n",
        "\n",
        "    # Inicializar SAM\n",
        "    sam = sam_model_registry[SAM_MODEL_TYPE](checkpoint=SAM_CKPT).to(DEVICE)\n",
        "    predictor = SamPredictor(sam)\n",
        "    predictor.set_image(img_rgb)\n",
        "\n",
        "\n",
        "    if boxes_xyxy.size == 0:\n",
        "        return [], np.zeros((H, W), np.uint8)\n",
        "\n",
        "    # Aplicar transformaciones a las cajas\n",
        "    boxes_t = predictor.transform.apply_boxes_torch(\n",
        "        torch.from_numpy(boxes_xyxy).to(DEVICE),\n",
        "        (H, W)\n",
        "    )\n",
        "    # Aplicar transformaciones a las máscaras\n",
        "    with torch.no_grad():\n",
        "        masks_t, _, _ = predictor.predict_torch(\n",
        "            point_coords=None, point_labels=None,\n",
        "            boxes=boxes_t, multimask_output=False\n",
        "        )\n",
        "\n",
        "\n",
        "    # Convertir a numpy\n",
        "    masks_np = masks_t.squeeze(1).detach().cpu().numpy()  # [N,H,W]\n",
        "    masks_inst = [(m.astype(np.uint8) * 255) for m in masks_np]\n",
        "    mask_bin = (np.any(masks_np, axis=0).astype(np.uint8) * 255)\n",
        "    return masks_inst, mask_bin\n",
        "# =========================\n",
        "# Pipeline principal\n",
        "# =========================\n",
        "def main():\n",
        "    ensure_dirs()\n",
        "\n",
        "    print(f\"✅ Cargando GroundingDINO\\n - CFG: {CFG_PATH}\\n - Weights: {WEIGHTS_PATH}\")\n",
        "    model = load_model(CFG_PATH, WEIGHTS_PATH).to(DEVICE).eval()\n",
        "\n",
        "    rutas = sorted([p for p in Path(CARPETA_IMAGENES).iterdir() if p.suffix.lower() in EXTS])\n",
        "    if not rutas:\n",
        "        raise FileNotFoundError(f\"No hay imágenes en {CARPETA_IMAGENES}\")\n",
        "\n",
        "    with torch.no_grad():\n",
        "        for path_img in rutas:\n",
        "            print(f\"\\n Procesando: {path_img.name}\")\n",
        "            image_source, image = load_image(str(path_img))  # BGR\n",
        "            H, W = image_source.shape[:2]\n",
        "\n",
        "            #detección\n",
        "            all_boxes, all_scores, all_phrases = [], [], []\n",
        "            for prompt in TEXT_PROMPT:\n",
        "                boxes_norm, logits, phrases = predict(\n",
        "                    model=model, image=image, caption=prompt,\n",
        "                    box_threshold=BOX_THRESHOLD, text_threshold=TEXT_THRESHOLD\n",
        "                )\n",
        "                if boxes_norm is None or len(boxes_norm) == 0:\n",
        "                    continue\n",
        "                all_boxes.append(torch.tensor(boxes_norm, dtype=torch.float32))\n",
        "                all_scores.append(torch.tensor(logits, dtype=torch.float32))\n",
        "                all_phrases.extend(phrases)\n",
        "\n",
        "            if all_boxes:\n",
        "                boxes_norm_cat = torch.cat(all_boxes, dim=0)\n",
        "                scores_cat = torch.cat(all_scores, dim=0)\n",
        "                phrases_cat = all_phrases\n",
        "            else:\n",
        "                boxes_norm_cat = torch.zeros((0,4), dtype=torch.float32)\n",
        "                scores_cat = torch.zeros((0,), dtype=torch.float32)\n",
        "                phrases_cat = []\n",
        "\n",
        "            xyxy_abs, cxcywh_abs = cxcywh_norm_to_xyxy_abs(boxes_norm_cat, W, H)\n",
        "            xyxy_abs = clip_xyxy(xyxy_abs, W, H)\n",
        "\n",
        "            if xyxy_abs.shape[0] > 0:\n",
        "                keep = nms_torch(xyxy_abs, scores_cat, NMS_IOU)\n",
        "                xyxy_abs, cxcywh_abs = xyxy_abs[keep], cxcywh_abs[keep]\n",
        "                boxes_norm_cat, scores_cat = boxes_norm_cat[keep], scores_cat[keep]\n",
        "                phrases_cat = [phrases_cat[i] for i in keep.tolist()]\n",
        "\n",
        "            # === guardar imagen anotada ===\n",
        "            annotated = annotate(image_source, boxes=boxes_norm_cat, logits=scores_cat, phrases=phrases_cat)\n",
        "            Image.fromarray(annotated).save(str(Path(CARPETA_SALIDA_IMAGENES) / f\"detect_{path_img.name}\"))\n",
        "\n",
        "            # === guardar coords en JSON ===\n",
        "            coords = []\n",
        "            for i in range(xyxy_abs.shape[0]):\n",
        "                coords.append({\n",
        "                    \"box_xyxy_abs\": [int(v) for v in xyxy_abs[i].tolist()],\n",
        "                    \"confidence\": float(scores_cat[i].item()),\n",
        "                    \"label\": phrases_cat[i] if i < len(phrases_cat) else \"\"\n",
        "                })\n",
        "            with open(Path(CARPETA_SALIDA_COORDS)/f\"detect_{path_img.stem}.json\",\"w\") as f:\n",
        "                json.dump(coords, f, indent=2)\n",
        "\n",
        "            # === segmentación con SAM ===\n",
        "            boxes_xyxy_np = xyxy_abs.cpu().numpy().astype(np.float32) if xyxy_abs.numel()>0 else np.zeros((0,4), np.float32)\n",
        "            masks_inst, mask_bin = segmentar_con_sam(image_source, boxes_xyxy_np)\n",
        "\n",
        "            # máscara binaria global (opcional, al nivel raíz de masks)\n",
        "            cv2.imwrite(str(Path(CARPETA_SALIDA_MASKS) / f\"{path_img.stem}_mask_bin.png\"), mask_bin)\n",
        "\n",
        "            # carpeta por parche (por imagen)\n",
        "            carpeta_img = Path(CARPETA_SALIDA_MASKS) / f\"{path_img.stem}_masks\"\n",
        "            carpeta_img.mkdir(parents=True, exist_ok=True)\n",
        "\n",
        "            # fondo marrón oscuro\n",
        "            BGR_BROWN = (20, 40, 60)\n",
        "\n",
        "            # guardado de cada máscara y armado del combinado\n",
        "            combined_bool = np.zeros((H, W), dtype=bool)\n",
        "\n",
        "            for k, m in enumerate(masks_inst):\n",
        "                # m es uint8 0/255, lo paso a bool\n",
        "                mb = (m > 0)\n",
        "                combined_bool |= mb\n",
        "\n",
        "                fondo = np.full((H, W, 3), BGR_BROWN, dtype=np.uint8)\n",
        "                fondo[mb] = (255, 255, 255)\n",
        "                cv2.imwrite(str(carpeta_img / f\"mask_{k:03d}.png\"), fondo)\n",
        "                np.save(str(carpeta_img / f\"mask_{k:03d}.npy\"), m)\n",
        "\n",
        "            # imágenes combinadas dentro de la subcarpeta del parche\n",
        "            # 1) máscara binaria combinada\n",
        "            combined_mask_u8 = (combined_bool.astype(np.uint8) * 255)\n",
        "            cv2.imwrite(str(carpeta_img / \"combined_mask.png\"), combined_mask_u8)\n",
        "\n",
        "            # 2) overlay combinado (fondo marrón, unión en blanco)\n",
        "            combined_overlay = np.full((H, W, 3), BGR_BROWN, dtype=np.uint8)\n",
        "            combined_overlay[combined_bool] = (255, 255, 255)\n",
        "            cv2.imwrite(str(carpeta_img / \"combined_overlay.png\"), combined_overlay)\n",
        "\n",
        "    print(\"\\n✅ Detección + segmentación completadas (con combinados por parche).\")\n",
        "\n",
        "if __name__ == \"__main__\":\n",
        "    main()"
      ]
    },
    {
      "cell_type": "code",
      "source": [],
      "metadata": {
        "id": "vG3jmCd3KSW6"
      },
      "execution_count": null,
      "outputs": []
    }
  ],
  "metadata": {
    "accelerator": "GPU",
    "colab": {
      "gpuType": "T4",
      "provenance": []
    },
    "kernelspec": {
      "display_name": "Python 3",
      "name": "python3"
    },
    "language_info": {
      "name": "python"
    },
    "widgets": {
      "application/vnd.jupyter.widget-state+json": {
        "066c1e1bbf9d4e04b7e2dccf65aace1e": {
          "model_module": "@jupyter-widgets/controls",
          "model_name": "HBoxModel",
          "model_module_version": "1.5.0",
          "state": {
            "_dom_classes": [],
            "_model_module": "@jupyter-widgets/controls",
            "_model_module_version": "1.5.0",
            "_model_name": "HBoxModel",
            "_view_count": null,
            "_view_module": "@jupyter-widgets/controls",
            "_view_module_version": "1.5.0",
            "_view_name": "HBoxView",
            "box_style": "",
            "children": [
              "IPY_MODEL_66b072aaffd0407fa364a65dac6c0608",
              "IPY_MODEL_ca8fa0c0cc434da2831b67cc51be2f00",
              "IPY_MODEL_290c402737904a83a8877d2fbc8564ba"
            ],
            "layout": "IPY_MODEL_aac1e678defa410dbdfca74493dd630e"
          }
        },
        "66b072aaffd0407fa364a65dac6c0608": {
          "model_module": "@jupyter-widgets/controls",
          "model_name": "HTMLModel",
          "model_module_version": "1.5.0",
          "state": {
            "_dom_classes": [],
            "_model_module": "@jupyter-widgets/controls",
            "_model_module_version": "1.5.0",
            "_model_name": "HTMLModel",
            "_view_count": null,
            "_view_module": "@jupyter-widgets/controls",
            "_view_module_version": "1.5.0",
            "_view_name": "HTMLView",
            "description": "",
            "description_tooltip": null,
            "layout": "IPY_MODEL_66941e91ca204090beb353aecf7253c3",
            "placeholder": "​",
            "style": "IPY_MODEL_3dc45a866fec4b6c90885b051bfde091",
            "value": "tokenizer_config.json: 100%"
          }
        },
        "ca8fa0c0cc434da2831b67cc51be2f00": {
          "model_module": "@jupyter-widgets/controls",
          "model_name": "FloatProgressModel",
          "model_module_version": "1.5.0",
          "state": {
            "_dom_classes": [],
            "_model_module": "@jupyter-widgets/controls",
            "_model_module_version": "1.5.0",
            "_model_name": "FloatProgressModel",
            "_view_count": null,
            "_view_module": "@jupyter-widgets/controls",
            "_view_module_version": "1.5.0",
            "_view_name": "ProgressView",
            "bar_style": "success",
            "description": "",
            "description_tooltip": null,
            "layout": "IPY_MODEL_3858119d8ac24627879d973393c64c94",
            "max": 48,
            "min": 0,
            "orientation": "horizontal",
            "style": "IPY_MODEL_39d62926a3fb412aa99802ab658e0d72",
            "value": 48
          }
        },
        "290c402737904a83a8877d2fbc8564ba": {
          "model_module": "@jupyter-widgets/controls",
          "model_name": "HTMLModel",
          "model_module_version": "1.5.0",
          "state": {
            "_dom_classes": [],
            "_model_module": "@jupyter-widgets/controls",
            "_model_module_version": "1.5.0",
            "_model_name": "HTMLModel",
            "_view_count": null,
            "_view_module": "@jupyter-widgets/controls",
            "_view_module_version": "1.5.0",
            "_view_name": "HTMLView",
            "description": "",
            "description_tooltip": null,
            "layout": "IPY_MODEL_26504b336638488d815940a27b0d62ec",
            "placeholder": "​",
            "style": "IPY_MODEL_96c70ab395b84b9e8c7e9733035be27d",
            "value": " 48.0/48.0 [00:00&lt;00:00, 3.65kB/s]"
          }
        },
        "aac1e678defa410dbdfca74493dd630e": {
          "model_module": "@jupyter-widgets/base",
          "model_name": "LayoutModel",
          "model_module_version": "1.2.0",
          "state": {
            "_model_module": "@jupyter-widgets/base",
            "_model_module_version": "1.2.0",
            "_model_name": "LayoutModel",
            "_view_count": null,
            "_view_module": "@jupyter-widgets/base",
            "_view_module_version": "1.2.0",
            "_view_name": "LayoutView",
            "align_content": null,
            "align_items": null,
            "align_self": null,
            "border": null,
            "bottom": null,
            "display": null,
            "flex": null,
            "flex_flow": null,
            "grid_area": null,
            "grid_auto_columns": null,
            "grid_auto_flow": null,
            "grid_auto_rows": null,
            "grid_column": null,
            "grid_gap": null,
            "grid_row": null,
            "grid_template_areas": null,
            "grid_template_columns": null,
            "grid_template_rows": null,
            "height": null,
            "justify_content": null,
            "justify_items": null,
            "left": null,
            "margin": null,
            "max_height": null,
            "max_width": null,
            "min_height": null,
            "min_width": null,
            "object_fit": null,
            "object_position": null,
            "order": null,
            "overflow": null,
            "overflow_x": null,
            "overflow_y": null,
            "padding": null,
            "right": null,
            "top": null,
            "visibility": null,
            "width": null
          }
        },
        "66941e91ca204090beb353aecf7253c3": {
          "model_module": "@jupyter-widgets/base",
          "model_name": "LayoutModel",
          "model_module_version": "1.2.0",
          "state": {
            "_model_module": "@jupyter-widgets/base",
            "_model_module_version": "1.2.0",
            "_model_name": "LayoutModel",
            "_view_count": null,
            "_view_module": "@jupyter-widgets/base",
            "_view_module_version": "1.2.0",
            "_view_name": "LayoutView",
            "align_content": null,
            "align_items": null,
            "align_self": null,
            "border": null,
            "bottom": null,
            "display": null,
            "flex": null,
            "flex_flow": null,
            "grid_area": null,
            "grid_auto_columns": null,
            "grid_auto_flow": null,
            "grid_auto_rows": null,
            "grid_column": null,
            "grid_gap": null,
            "grid_row": null,
            "grid_template_areas": null,
            "grid_template_columns": null,
            "grid_template_rows": null,
            "height": null,
            "justify_content": null,
            "justify_items": null,
            "left": null,
            "margin": null,
            "max_height": null,
            "max_width": null,
            "min_height": null,
            "min_width": null,
            "object_fit": null,
            "object_position": null,
            "order": null,
            "overflow": null,
            "overflow_x": null,
            "overflow_y": null,
            "padding": null,
            "right": null,
            "top": null,
            "visibility": null,
            "width": null
          }
        },
        "3dc45a866fec4b6c90885b051bfde091": {
          "model_module": "@jupyter-widgets/controls",
          "model_name": "DescriptionStyleModel",
          "model_module_version": "1.5.0",
          "state": {
            "_model_module": "@jupyter-widgets/controls",
            "_model_module_version": "1.5.0",
            "_model_name": "DescriptionStyleModel",
            "_view_count": null,
            "_view_module": "@jupyter-widgets/base",
            "_view_module_version": "1.2.0",
            "_view_name": "StyleView",
            "description_width": ""
          }
        },
        "3858119d8ac24627879d973393c64c94": {
          "model_module": "@jupyter-widgets/base",
          "model_name": "LayoutModel",
          "model_module_version": "1.2.0",
          "state": {
            "_model_module": "@jupyter-widgets/base",
            "_model_module_version": "1.2.0",
            "_model_name": "LayoutModel",
            "_view_count": null,
            "_view_module": "@jupyter-widgets/base",
            "_view_module_version": "1.2.0",
            "_view_name": "LayoutView",
            "align_content": null,
            "align_items": null,
            "align_self": null,
            "border": null,
            "bottom": null,
            "display": null,
            "flex": null,
            "flex_flow": null,
            "grid_area": null,
            "grid_auto_columns": null,
            "grid_auto_flow": null,
            "grid_auto_rows": null,
            "grid_column": null,
            "grid_gap": null,
            "grid_row": null,
            "grid_template_areas": null,
            "grid_template_columns": null,
            "grid_template_rows": null,
            "height": null,
            "justify_content": null,
            "justify_items": null,
            "left": null,
            "margin": null,
            "max_height": null,
            "max_width": null,
            "min_height": null,
            "min_width": null,
            "object_fit": null,
            "object_position": null,
            "order": null,
            "overflow": null,
            "overflow_x": null,
            "overflow_y": null,
            "padding": null,
            "right": null,
            "top": null,
            "visibility": null,
            "width": null
          }
        },
        "39d62926a3fb412aa99802ab658e0d72": {
          "model_module": "@jupyter-widgets/controls",
          "model_name": "ProgressStyleModel",
          "model_module_version": "1.5.0",
          "state": {
            "_model_module": "@jupyter-widgets/controls",
            "_model_module_version": "1.5.0",
            "_model_name": "ProgressStyleModel",
            "_view_count": null,
            "_view_module": "@jupyter-widgets/base",
            "_view_module_version": "1.2.0",
            "_view_name": "StyleView",
            "bar_color": null,
            "description_width": ""
          }
        },
        "26504b336638488d815940a27b0d62ec": {
          "model_module": "@jupyter-widgets/base",
          "model_name": "LayoutModel",
          "model_module_version": "1.2.0",
          "state": {
            "_model_module": "@jupyter-widgets/base",
            "_model_module_version": "1.2.0",
            "_model_name": "LayoutModel",
            "_view_count": null,
            "_view_module": "@jupyter-widgets/base",
            "_view_module_version": "1.2.0",
            "_view_name": "LayoutView",
            "align_content": null,
            "align_items": null,
            "align_self": null,
            "border": null,
            "bottom": null,
            "display": null,
            "flex": null,
            "flex_flow": null,
            "grid_area": null,
            "grid_auto_columns": null,
            "grid_auto_flow": null,
            "grid_auto_rows": null,
            "grid_column": null,
            "grid_gap": null,
            "grid_row": null,
            "grid_template_areas": null,
            "grid_template_columns": null,
            "grid_template_rows": null,
            "height": null,
            "justify_content": null,
            "justify_items": null,
            "left": null,
            "margin": null,
            "max_height": null,
            "max_width": null,
            "min_height": null,
            "min_width": null,
            "object_fit": null,
            "object_position": null,
            "order": null,
            "overflow": null,
            "overflow_x": null,
            "overflow_y": null,
            "padding": null,
            "right": null,
            "top": null,
            "visibility": null,
            "width": null
          }
        },
        "96c70ab395b84b9e8c7e9733035be27d": {
          "model_module": "@jupyter-widgets/controls",
          "model_name": "DescriptionStyleModel",
          "model_module_version": "1.5.0",
          "state": {
            "_model_module": "@jupyter-widgets/controls",
            "_model_module_version": "1.5.0",
            "_model_name": "DescriptionStyleModel",
            "_view_count": null,
            "_view_module": "@jupyter-widgets/base",
            "_view_module_version": "1.2.0",
            "_view_name": "StyleView",
            "description_width": ""
          }
        },
        "972ed82f9b7245a98541a39917982777": {
          "model_module": "@jupyter-widgets/controls",
          "model_name": "HBoxModel",
          "model_module_version": "1.5.0",
          "state": {
            "_dom_classes": [],
            "_model_module": "@jupyter-widgets/controls",
            "_model_module_version": "1.5.0",
            "_model_name": "HBoxModel",
            "_view_count": null,
            "_view_module": "@jupyter-widgets/controls",
            "_view_module_version": "1.5.0",
            "_view_name": "HBoxView",
            "box_style": "",
            "children": [
              "IPY_MODEL_34bf43a7136e4940b5b5d8412b38d3e4",
              "IPY_MODEL_8d527e702c2e447eb77abf2b4c8dee7b",
              "IPY_MODEL_3bb07fbd6cf143fe9f0dc0abf43f053e"
            ],
            "layout": "IPY_MODEL_eb7e5354acda485584e24a6932fb51be"
          }
        },
        "34bf43a7136e4940b5b5d8412b38d3e4": {
          "model_module": "@jupyter-widgets/controls",
          "model_name": "HTMLModel",
          "model_module_version": "1.5.0",
          "state": {
            "_dom_classes": [],
            "_model_module": "@jupyter-widgets/controls",
            "_model_module_version": "1.5.0",
            "_model_name": "HTMLModel",
            "_view_count": null,
            "_view_module": "@jupyter-widgets/controls",
            "_view_module_version": "1.5.0",
            "_view_name": "HTMLView",
            "description": "",
            "description_tooltip": null,
            "layout": "IPY_MODEL_3a308c5caf2845fb83c17bf8f0232052",
            "placeholder": "​",
            "style": "IPY_MODEL_39aaaf5fcaf84db49ea2532df2615a6e",
            "value": "config.json: 100%"
          }
        },
        "8d527e702c2e447eb77abf2b4c8dee7b": {
          "model_module": "@jupyter-widgets/controls",
          "model_name": "FloatProgressModel",
          "model_module_version": "1.5.0",
          "state": {
            "_dom_classes": [],
            "_model_module": "@jupyter-widgets/controls",
            "_model_module_version": "1.5.0",
            "_model_name": "FloatProgressModel",
            "_view_count": null,
            "_view_module": "@jupyter-widgets/controls",
            "_view_module_version": "1.5.0",
            "_view_name": "ProgressView",
            "bar_style": "success",
            "description": "",
            "description_tooltip": null,
            "layout": "IPY_MODEL_8cfcd1697b06450f8b2fa1c787ee3e2f",
            "max": 570,
            "min": 0,
            "orientation": "horizontal",
            "style": "IPY_MODEL_92fa09411dc345ab86887aa1e2846043",
            "value": 570
          }
        },
        "3bb07fbd6cf143fe9f0dc0abf43f053e": {
          "model_module": "@jupyter-widgets/controls",
          "model_name": "HTMLModel",
          "model_module_version": "1.5.0",
          "state": {
            "_dom_classes": [],
            "_model_module": "@jupyter-widgets/controls",
            "_model_module_version": "1.5.0",
            "_model_name": "HTMLModel",
            "_view_count": null,
            "_view_module": "@jupyter-widgets/controls",
            "_view_module_version": "1.5.0",
            "_view_name": "HTMLView",
            "description": "",
            "description_tooltip": null,
            "layout": "IPY_MODEL_669b2dc4bb7a400cad44e0a6383e9dc5",
            "placeholder": "​",
            "style": "IPY_MODEL_5934e477b49e4bb3b1e27ecf9649e3d4",
            "value": " 570/570 [00:00&lt;00:00, 63.0kB/s]"
          }
        },
        "eb7e5354acda485584e24a6932fb51be": {
          "model_module": "@jupyter-widgets/base",
          "model_name": "LayoutModel",
          "model_module_version": "1.2.0",
          "state": {
            "_model_module": "@jupyter-widgets/base",
            "_model_module_version": "1.2.0",
            "_model_name": "LayoutModel",
            "_view_count": null,
            "_view_module": "@jupyter-widgets/base",
            "_view_module_version": "1.2.0",
            "_view_name": "LayoutView",
            "align_content": null,
            "align_items": null,
            "align_self": null,
            "border": null,
            "bottom": null,
            "display": null,
            "flex": null,
            "flex_flow": null,
            "grid_area": null,
            "grid_auto_columns": null,
            "grid_auto_flow": null,
            "grid_auto_rows": null,
            "grid_column": null,
            "grid_gap": null,
            "grid_row": null,
            "grid_template_areas": null,
            "grid_template_columns": null,
            "grid_template_rows": null,
            "height": null,
            "justify_content": null,
            "justify_items": null,
            "left": null,
            "margin": null,
            "max_height": null,
            "max_width": null,
            "min_height": null,
            "min_width": null,
            "object_fit": null,
            "object_position": null,
            "order": null,
            "overflow": null,
            "overflow_x": null,
            "overflow_y": null,
            "padding": null,
            "right": null,
            "top": null,
            "visibility": null,
            "width": null
          }
        },
        "3a308c5caf2845fb83c17bf8f0232052": {
          "model_module": "@jupyter-widgets/base",
          "model_name": "LayoutModel",
          "model_module_version": "1.2.0",
          "state": {
            "_model_module": "@jupyter-widgets/base",
            "_model_module_version": "1.2.0",
            "_model_name": "LayoutModel",
            "_view_count": null,
            "_view_module": "@jupyter-widgets/base",
            "_view_module_version": "1.2.0",
            "_view_name": "LayoutView",
            "align_content": null,
            "align_items": null,
            "align_self": null,
            "border": null,
            "bottom": null,
            "display": null,
            "flex": null,
            "flex_flow": null,
            "grid_area": null,
            "grid_auto_columns": null,
            "grid_auto_flow": null,
            "grid_auto_rows": null,
            "grid_column": null,
            "grid_gap": null,
            "grid_row": null,
            "grid_template_areas": null,
            "grid_template_columns": null,
            "grid_template_rows": null,
            "height": null,
            "justify_content": null,
            "justify_items": null,
            "left": null,
            "margin": null,
            "max_height": null,
            "max_width": null,
            "min_height": null,
            "min_width": null,
            "object_fit": null,
            "object_position": null,
            "order": null,
            "overflow": null,
            "overflow_x": null,
            "overflow_y": null,
            "padding": null,
            "right": null,
            "top": null,
            "visibility": null,
            "width": null
          }
        },
        "39aaaf5fcaf84db49ea2532df2615a6e": {
          "model_module": "@jupyter-widgets/controls",
          "model_name": "DescriptionStyleModel",
          "model_module_version": "1.5.0",
          "state": {
            "_model_module": "@jupyter-widgets/controls",
            "_model_module_version": "1.5.0",
            "_model_name": "DescriptionStyleModel",
            "_view_count": null,
            "_view_module": "@jupyter-widgets/base",
            "_view_module_version": "1.2.0",
            "_view_name": "StyleView",
            "description_width": ""
          }
        },
        "8cfcd1697b06450f8b2fa1c787ee3e2f": {
          "model_module": "@jupyter-widgets/base",
          "model_name": "LayoutModel",
          "model_module_version": "1.2.0",
          "state": {
            "_model_module": "@jupyter-widgets/base",
            "_model_module_version": "1.2.0",
            "_model_name": "LayoutModel",
            "_view_count": null,
            "_view_module": "@jupyter-widgets/base",
            "_view_module_version": "1.2.0",
            "_view_name": "LayoutView",
            "align_content": null,
            "align_items": null,
            "align_self": null,
            "border": null,
            "bottom": null,
            "display": null,
            "flex": null,
            "flex_flow": null,
            "grid_area": null,
            "grid_auto_columns": null,
            "grid_auto_flow": null,
            "grid_auto_rows": null,
            "grid_column": null,
            "grid_gap": null,
            "grid_row": null,
            "grid_template_areas": null,
            "grid_template_columns": null,
            "grid_template_rows": null,
            "height": null,
            "justify_content": null,
            "justify_items": null,
            "left": null,
            "margin": null,
            "max_height": null,
            "max_width": null,
            "min_height": null,
            "min_width": null,
            "object_fit": null,
            "object_position": null,
            "order": null,
            "overflow": null,
            "overflow_x": null,
            "overflow_y": null,
            "padding": null,
            "right": null,
            "top": null,
            "visibility": null,
            "width": null
          }
        },
        "92fa09411dc345ab86887aa1e2846043": {
          "model_module": "@jupyter-widgets/controls",
          "model_name": "ProgressStyleModel",
          "model_module_version": "1.5.0",
          "state": {
            "_model_module": "@jupyter-widgets/controls",
            "_model_module_version": "1.5.0",
            "_model_name": "ProgressStyleModel",
            "_view_count": null,
            "_view_module": "@jupyter-widgets/base",
            "_view_module_version": "1.2.0",
            "_view_name": "StyleView",
            "bar_color": null,
            "description_width": ""
          }
        },
        "669b2dc4bb7a400cad44e0a6383e9dc5": {
          "model_module": "@jupyter-widgets/base",
          "model_name": "LayoutModel",
          "model_module_version": "1.2.0",
          "state": {
            "_model_module": "@jupyter-widgets/base",
            "_model_module_version": "1.2.0",
            "_model_name": "LayoutModel",
            "_view_count": null,
            "_view_module": "@jupyter-widgets/base",
            "_view_module_version": "1.2.0",
            "_view_name": "LayoutView",
            "align_content": null,
            "align_items": null,
            "align_self": null,
            "border": null,
            "bottom": null,
            "display": null,
            "flex": null,
            "flex_flow": null,
            "grid_area": null,
            "grid_auto_columns": null,
            "grid_auto_flow": null,
            "grid_auto_rows": null,
            "grid_column": null,
            "grid_gap": null,
            "grid_row": null,
            "grid_template_areas": null,
            "grid_template_columns": null,
            "grid_template_rows": null,
            "height": null,
            "justify_content": null,
            "justify_items": null,
            "left": null,
            "margin": null,
            "max_height": null,
            "max_width": null,
            "min_height": null,
            "min_width": null,
            "object_fit": null,
            "object_position": null,
            "order": null,
            "overflow": null,
            "overflow_x": null,
            "overflow_y": null,
            "padding": null,
            "right": null,
            "top": null,
            "visibility": null,
            "width": null
          }
        },
        "5934e477b49e4bb3b1e27ecf9649e3d4": {
          "model_module": "@jupyter-widgets/controls",
          "model_name": "DescriptionStyleModel",
          "model_module_version": "1.5.0",
          "state": {
            "_model_module": "@jupyter-widgets/controls",
            "_model_module_version": "1.5.0",
            "_model_name": "DescriptionStyleModel",
            "_view_count": null,
            "_view_module": "@jupyter-widgets/base",
            "_view_module_version": "1.2.0",
            "_view_name": "StyleView",
            "description_width": ""
          }
        },
        "6bd4d62ffd10418ea3e222ea9304200a": {
          "model_module": "@jupyter-widgets/controls",
          "model_name": "HBoxModel",
          "model_module_version": "1.5.0",
          "state": {
            "_dom_classes": [],
            "_model_module": "@jupyter-widgets/controls",
            "_model_module_version": "1.5.0",
            "_model_name": "HBoxModel",
            "_view_count": null,
            "_view_module": "@jupyter-widgets/controls",
            "_view_module_version": "1.5.0",
            "_view_name": "HBoxView",
            "box_style": "",
            "children": [
              "IPY_MODEL_2142f545dbf44cc2a6411346412b7858",
              "IPY_MODEL_68134ee8c74a43f9abfe5af21870278b",
              "IPY_MODEL_870bfd263e6a4b4fbc201ae9d588c980"
            ],
            "layout": "IPY_MODEL_6d5653aaca08449ead047f102c4b159a"
          }
        },
        "2142f545dbf44cc2a6411346412b7858": {
          "model_module": "@jupyter-widgets/controls",
          "model_name": "HTMLModel",
          "model_module_version": "1.5.0",
          "state": {
            "_dom_classes": [],
            "_model_module": "@jupyter-widgets/controls",
            "_model_module_version": "1.5.0",
            "_model_name": "HTMLModel",
            "_view_count": null,
            "_view_module": "@jupyter-widgets/controls",
            "_view_module_version": "1.5.0",
            "_view_name": "HTMLView",
            "description": "",
            "description_tooltip": null,
            "layout": "IPY_MODEL_0c6869067052424eba62440f028ad236",
            "placeholder": "​",
            "style": "IPY_MODEL_f927bf0cfc044287b9bd784d1e59cb0f",
            "value": "vocab.txt: 100%"
          }
        },
        "68134ee8c74a43f9abfe5af21870278b": {
          "model_module": "@jupyter-widgets/controls",
          "model_name": "FloatProgressModel",
          "model_module_version": "1.5.0",
          "state": {
            "_dom_classes": [],
            "_model_module": "@jupyter-widgets/controls",
            "_model_module_version": "1.5.0",
            "_model_name": "FloatProgressModel",
            "_view_count": null,
            "_view_module": "@jupyter-widgets/controls",
            "_view_module_version": "1.5.0",
            "_view_name": "ProgressView",
            "bar_style": "success",
            "description": "",
            "description_tooltip": null,
            "layout": "IPY_MODEL_d0d3a5feee784dc1b33207f8d0c18e02",
            "max": 231508,
            "min": 0,
            "orientation": "horizontal",
            "style": "IPY_MODEL_a339784b2a4145f48138ff6efcf609be",
            "value": 231508
          }
        },
        "870bfd263e6a4b4fbc201ae9d588c980": {
          "model_module": "@jupyter-widgets/controls",
          "model_name": "HTMLModel",
          "model_module_version": "1.5.0",
          "state": {
            "_dom_classes": [],
            "_model_module": "@jupyter-widgets/controls",
            "_model_module_version": "1.5.0",
            "_model_name": "HTMLModel",
            "_view_count": null,
            "_view_module": "@jupyter-widgets/controls",
            "_view_module_version": "1.5.0",
            "_view_name": "HTMLView",
            "description": "",
            "description_tooltip": null,
            "layout": "IPY_MODEL_9e867e499ec64b4382d911e804bb8581",
            "placeholder": "​",
            "style": "IPY_MODEL_d8ecd4117fd14370b9457dc76b0b7f48",
            "value": " 232k/232k [00:00&lt;00:00, 3.22MB/s]"
          }
        },
        "6d5653aaca08449ead047f102c4b159a": {
          "model_module": "@jupyter-widgets/base",
          "model_name": "LayoutModel",
          "model_module_version": "1.2.0",
          "state": {
            "_model_module": "@jupyter-widgets/base",
            "_model_module_version": "1.2.0",
            "_model_name": "LayoutModel",
            "_view_count": null,
            "_view_module": "@jupyter-widgets/base",
            "_view_module_version": "1.2.0",
            "_view_name": "LayoutView",
            "align_content": null,
            "align_items": null,
            "align_self": null,
            "border": null,
            "bottom": null,
            "display": null,
            "flex": null,
            "flex_flow": null,
            "grid_area": null,
            "grid_auto_columns": null,
            "grid_auto_flow": null,
            "grid_auto_rows": null,
            "grid_column": null,
            "grid_gap": null,
            "grid_row": null,
            "grid_template_areas": null,
            "grid_template_columns": null,
            "grid_template_rows": null,
            "height": null,
            "justify_content": null,
            "justify_items": null,
            "left": null,
            "margin": null,
            "max_height": null,
            "max_width": null,
            "min_height": null,
            "min_width": null,
            "object_fit": null,
            "object_position": null,
            "order": null,
            "overflow": null,
            "overflow_x": null,
            "overflow_y": null,
            "padding": null,
            "right": null,
            "top": null,
            "visibility": null,
            "width": null
          }
        },
        "0c6869067052424eba62440f028ad236": {
          "model_module": "@jupyter-widgets/base",
          "model_name": "LayoutModel",
          "model_module_version": "1.2.0",
          "state": {
            "_model_module": "@jupyter-widgets/base",
            "_model_module_version": "1.2.0",
            "_model_name": "LayoutModel",
            "_view_count": null,
            "_view_module": "@jupyter-widgets/base",
            "_view_module_version": "1.2.0",
            "_view_name": "LayoutView",
            "align_content": null,
            "align_items": null,
            "align_self": null,
            "border": null,
            "bottom": null,
            "display": null,
            "flex": null,
            "flex_flow": null,
            "grid_area": null,
            "grid_auto_columns": null,
            "grid_auto_flow": null,
            "grid_auto_rows": null,
            "grid_column": null,
            "grid_gap": null,
            "grid_row": null,
            "grid_template_areas": null,
            "grid_template_columns": null,
            "grid_template_rows": null,
            "height": null,
            "justify_content": null,
            "justify_items": null,
            "left": null,
            "margin": null,
            "max_height": null,
            "max_width": null,
            "min_height": null,
            "min_width": null,
            "object_fit": null,
            "object_position": null,
            "order": null,
            "overflow": null,
            "overflow_x": null,
            "overflow_y": null,
            "padding": null,
            "right": null,
            "top": null,
            "visibility": null,
            "width": null
          }
        },
        "f927bf0cfc044287b9bd784d1e59cb0f": {
          "model_module": "@jupyter-widgets/controls",
          "model_name": "DescriptionStyleModel",
          "model_module_version": "1.5.0",
          "state": {
            "_model_module": "@jupyter-widgets/controls",
            "_model_module_version": "1.5.0",
            "_model_name": "DescriptionStyleModel",
            "_view_count": null,
            "_view_module": "@jupyter-widgets/base",
            "_view_module_version": "1.2.0",
            "_view_name": "StyleView",
            "description_width": ""
          }
        },
        "d0d3a5feee784dc1b33207f8d0c18e02": {
          "model_module": "@jupyter-widgets/base",
          "model_name": "LayoutModel",
          "model_module_version": "1.2.0",
          "state": {
            "_model_module": "@jupyter-widgets/base",
            "_model_module_version": "1.2.0",
            "_model_name": "LayoutModel",
            "_view_count": null,
            "_view_module": "@jupyter-widgets/base",
            "_view_module_version": "1.2.0",
            "_view_name": "LayoutView",
            "align_content": null,
            "align_items": null,
            "align_self": null,
            "border": null,
            "bottom": null,
            "display": null,
            "flex": null,
            "flex_flow": null,
            "grid_area": null,
            "grid_auto_columns": null,
            "grid_auto_flow": null,
            "grid_auto_rows": null,
            "grid_column": null,
            "grid_gap": null,
            "grid_row": null,
            "grid_template_areas": null,
            "grid_template_columns": null,
            "grid_template_rows": null,
            "height": null,
            "justify_content": null,
            "justify_items": null,
            "left": null,
            "margin": null,
            "max_height": null,
            "max_width": null,
            "min_height": null,
            "min_width": null,
            "object_fit": null,
            "object_position": null,
            "order": null,
            "overflow": null,
            "overflow_x": null,
            "overflow_y": null,
            "padding": null,
            "right": null,
            "top": null,
            "visibility": null,
            "width": null
          }
        },
        "a339784b2a4145f48138ff6efcf609be": {
          "model_module": "@jupyter-widgets/controls",
          "model_name": "ProgressStyleModel",
          "model_module_version": "1.5.0",
          "state": {
            "_model_module": "@jupyter-widgets/controls",
            "_model_module_version": "1.5.0",
            "_model_name": "ProgressStyleModel",
            "_view_count": null,
            "_view_module": "@jupyter-widgets/base",
            "_view_module_version": "1.2.0",
            "_view_name": "StyleView",
            "bar_color": null,
            "description_width": ""
          }
        },
        "9e867e499ec64b4382d911e804bb8581": {
          "model_module": "@jupyter-widgets/base",
          "model_name": "LayoutModel",
          "model_module_version": "1.2.0",
          "state": {
            "_model_module": "@jupyter-widgets/base",
            "_model_module_version": "1.2.0",
            "_model_name": "LayoutModel",
            "_view_count": null,
            "_view_module": "@jupyter-widgets/base",
            "_view_module_version": "1.2.0",
            "_view_name": "LayoutView",
            "align_content": null,
            "align_items": null,
            "align_self": null,
            "border": null,
            "bottom": null,
            "display": null,
            "flex": null,
            "flex_flow": null,
            "grid_area": null,
            "grid_auto_columns": null,
            "grid_auto_flow": null,
            "grid_auto_rows": null,
            "grid_column": null,
            "grid_gap": null,
            "grid_row": null,
            "grid_template_areas": null,
            "grid_template_columns": null,
            "grid_template_rows": null,
            "height": null,
            "justify_content": null,
            "justify_items": null,
            "left": null,
            "margin": null,
            "max_height": null,
            "max_width": null,
            "min_height": null,
            "min_width": null,
            "object_fit": null,
            "object_position": null,
            "order": null,
            "overflow": null,
            "overflow_x": null,
            "overflow_y": null,
            "padding": null,
            "right": null,
            "top": null,
            "visibility": null,
            "width": null
          }
        },
        "d8ecd4117fd14370b9457dc76b0b7f48": {
          "model_module": "@jupyter-widgets/controls",
          "model_name": "DescriptionStyleModel",
          "model_module_version": "1.5.0",
          "state": {
            "_model_module": "@jupyter-widgets/controls",
            "_model_module_version": "1.5.0",
            "_model_name": "DescriptionStyleModel",
            "_view_count": null,
            "_view_module": "@jupyter-widgets/base",
            "_view_module_version": "1.2.0",
            "_view_name": "StyleView",
            "description_width": ""
          }
        },
        "50e3688fec5f43b58cb704f5a68c6d3b": {
          "model_module": "@jupyter-widgets/controls",
          "model_name": "HBoxModel",
          "model_module_version": "1.5.0",
          "state": {
            "_dom_classes": [],
            "_model_module": "@jupyter-widgets/controls",
            "_model_module_version": "1.5.0",
            "_model_name": "HBoxModel",
            "_view_count": null,
            "_view_module": "@jupyter-widgets/controls",
            "_view_module_version": "1.5.0",
            "_view_name": "HBoxView",
            "box_style": "",
            "children": [
              "IPY_MODEL_ad9a56d8f39e45daadc4c4b1808be332",
              "IPY_MODEL_6e12ea8025954109b52359dcb467940d",
              "IPY_MODEL_5b2562284c8c4b5a99c3bc672f67c683"
            ],
            "layout": "IPY_MODEL_db83a3da856f4d55923a573b016ee14b"
          }
        },
        "ad9a56d8f39e45daadc4c4b1808be332": {
          "model_module": "@jupyter-widgets/controls",
          "model_name": "HTMLModel",
          "model_module_version": "1.5.0",
          "state": {
            "_dom_classes": [],
            "_model_module": "@jupyter-widgets/controls",
            "_model_module_version": "1.5.0",
            "_model_name": "HTMLModel",
            "_view_count": null,
            "_view_module": "@jupyter-widgets/controls",
            "_view_module_version": "1.5.0",
            "_view_name": "HTMLView",
            "description": "",
            "description_tooltip": null,
            "layout": "IPY_MODEL_1277e30eed5e4a48874bdf5e186fdd2e",
            "placeholder": "​",
            "style": "IPY_MODEL_d09267038d4d43e1aae65c14468aa08f",
            "value": "tokenizer.json: 100%"
          }
        },
        "6e12ea8025954109b52359dcb467940d": {
          "model_module": "@jupyter-widgets/controls",
          "model_name": "FloatProgressModel",
          "model_module_version": "1.5.0",
          "state": {
            "_dom_classes": [],
            "_model_module": "@jupyter-widgets/controls",
            "_model_module_version": "1.5.0",
            "_model_name": "FloatProgressModel",
            "_view_count": null,
            "_view_module": "@jupyter-widgets/controls",
            "_view_module_version": "1.5.0",
            "_view_name": "ProgressView",
            "bar_style": "success",
            "description": "",
            "description_tooltip": null,
            "layout": "IPY_MODEL_f6e71f74dbdb4f0ca54f6339bae679e4",
            "max": 466062,
            "min": 0,
            "orientation": "horizontal",
            "style": "IPY_MODEL_cfd722cae345406b8431e864645158d9",
            "value": 466062
          }
        },
        "5b2562284c8c4b5a99c3bc672f67c683": {
          "model_module": "@jupyter-widgets/controls",
          "model_name": "HTMLModel",
          "model_module_version": "1.5.0",
          "state": {
            "_dom_classes": [],
            "_model_module": "@jupyter-widgets/controls",
            "_model_module_version": "1.5.0",
            "_model_name": "HTMLModel",
            "_view_count": null,
            "_view_module": "@jupyter-widgets/controls",
            "_view_module_version": "1.5.0",
            "_view_name": "HTMLView",
            "description": "",
            "description_tooltip": null,
            "layout": "IPY_MODEL_56bc3c2c1d474777a17eac6a13593c6a",
            "placeholder": "​",
            "style": "IPY_MODEL_d12fdf97fb594a0896593bdfc6c2cc48",
            "value": " 466k/466k [00:00&lt;00:00, 3.20MB/s]"
          }
        },
        "db83a3da856f4d55923a573b016ee14b": {
          "model_module": "@jupyter-widgets/base",
          "model_name": "LayoutModel",
          "model_module_version": "1.2.0",
          "state": {
            "_model_module": "@jupyter-widgets/base",
            "_model_module_version": "1.2.0",
            "_model_name": "LayoutModel",
            "_view_count": null,
            "_view_module": "@jupyter-widgets/base",
            "_view_module_version": "1.2.0",
            "_view_name": "LayoutView",
            "align_content": null,
            "align_items": null,
            "align_self": null,
            "border": null,
            "bottom": null,
            "display": null,
            "flex": null,
            "flex_flow": null,
            "grid_area": null,
            "grid_auto_columns": null,
            "grid_auto_flow": null,
            "grid_auto_rows": null,
            "grid_column": null,
            "grid_gap": null,
            "grid_row": null,
            "grid_template_areas": null,
            "grid_template_columns": null,
            "grid_template_rows": null,
            "height": null,
            "justify_content": null,
            "justify_items": null,
            "left": null,
            "margin": null,
            "max_height": null,
            "max_width": null,
            "min_height": null,
            "min_width": null,
            "object_fit": null,
            "object_position": null,
            "order": null,
            "overflow": null,
            "overflow_x": null,
            "overflow_y": null,
            "padding": null,
            "right": null,
            "top": null,
            "visibility": null,
            "width": null
          }
        },
        "1277e30eed5e4a48874bdf5e186fdd2e": {
          "model_module": "@jupyter-widgets/base",
          "model_name": "LayoutModel",
          "model_module_version": "1.2.0",
          "state": {
            "_model_module": "@jupyter-widgets/base",
            "_model_module_version": "1.2.0",
            "_model_name": "LayoutModel",
            "_view_count": null,
            "_view_module": "@jupyter-widgets/base",
            "_view_module_version": "1.2.0",
            "_view_name": "LayoutView",
            "align_content": null,
            "align_items": null,
            "align_self": null,
            "border": null,
            "bottom": null,
            "display": null,
            "flex": null,
            "flex_flow": null,
            "grid_area": null,
            "grid_auto_columns": null,
            "grid_auto_flow": null,
            "grid_auto_rows": null,
            "grid_column": null,
            "grid_gap": null,
            "grid_row": null,
            "grid_template_areas": null,
            "grid_template_columns": null,
            "grid_template_rows": null,
            "height": null,
            "justify_content": null,
            "justify_items": null,
            "left": null,
            "margin": null,
            "max_height": null,
            "max_width": null,
            "min_height": null,
            "min_width": null,
            "object_fit": null,
            "object_position": null,
            "order": null,
            "overflow": null,
            "overflow_x": null,
            "overflow_y": null,
            "padding": null,
            "right": null,
            "top": null,
            "visibility": null,
            "width": null
          }
        },
        "d09267038d4d43e1aae65c14468aa08f": {
          "model_module": "@jupyter-widgets/controls",
          "model_name": "DescriptionStyleModel",
          "model_module_version": "1.5.0",
          "state": {
            "_model_module": "@jupyter-widgets/controls",
            "_model_module_version": "1.5.0",
            "_model_name": "DescriptionStyleModel",
            "_view_count": null,
            "_view_module": "@jupyter-widgets/base",
            "_view_module_version": "1.2.0",
            "_view_name": "StyleView",
            "description_width": ""
          }
        },
        "f6e71f74dbdb4f0ca54f6339bae679e4": {
          "model_module": "@jupyter-widgets/base",
          "model_name": "LayoutModel",
          "model_module_version": "1.2.0",
          "state": {
            "_model_module": "@jupyter-widgets/base",
            "_model_module_version": "1.2.0",
            "_model_name": "LayoutModel",
            "_view_count": null,
            "_view_module": "@jupyter-widgets/base",
            "_view_module_version": "1.2.0",
            "_view_name": "LayoutView",
            "align_content": null,
            "align_items": null,
            "align_self": null,
            "border": null,
            "bottom": null,
            "display": null,
            "flex": null,
            "flex_flow": null,
            "grid_area": null,
            "grid_auto_columns": null,
            "grid_auto_flow": null,
            "grid_auto_rows": null,
            "grid_column": null,
            "grid_gap": null,
            "grid_row": null,
            "grid_template_areas": null,
            "grid_template_columns": null,
            "grid_template_rows": null,
            "height": null,
            "justify_content": null,
            "justify_items": null,
            "left": null,
            "margin": null,
            "max_height": null,
            "max_width": null,
            "min_height": null,
            "min_width": null,
            "object_fit": null,
            "object_position": null,
            "order": null,
            "overflow": null,
            "overflow_x": null,
            "overflow_y": null,
            "padding": null,
            "right": null,
            "top": null,
            "visibility": null,
            "width": null
          }
        },
        "cfd722cae345406b8431e864645158d9": {
          "model_module": "@jupyter-widgets/controls",
          "model_name": "ProgressStyleModel",
          "model_module_version": "1.5.0",
          "state": {
            "_model_module": "@jupyter-widgets/controls",
            "_model_module_version": "1.5.0",
            "_model_name": "ProgressStyleModel",
            "_view_count": null,
            "_view_module": "@jupyter-widgets/base",
            "_view_module_version": "1.2.0",
            "_view_name": "StyleView",
            "bar_color": null,
            "description_width": ""
          }
        },
        "56bc3c2c1d474777a17eac6a13593c6a": {
          "model_module": "@jupyter-widgets/base",
          "model_name": "LayoutModel",
          "model_module_version": "1.2.0",
          "state": {
            "_model_module": "@jupyter-widgets/base",
            "_model_module_version": "1.2.0",
            "_model_name": "LayoutModel",
            "_view_count": null,
            "_view_module": "@jupyter-widgets/base",
            "_view_module_version": "1.2.0",
            "_view_name": "LayoutView",
            "align_content": null,
            "align_items": null,
            "align_self": null,
            "border": null,
            "bottom": null,
            "display": null,
            "flex": null,
            "flex_flow": null,
            "grid_area": null,
            "grid_auto_columns": null,
            "grid_auto_flow": null,
            "grid_auto_rows": null,
            "grid_column": null,
            "grid_gap": null,
            "grid_row": null,
            "grid_template_areas": null,
            "grid_template_columns": null,
            "grid_template_rows": null,
            "height": null,
            "justify_content": null,
            "justify_items": null,
            "left": null,
            "margin": null,
            "max_height": null,
            "max_width": null,
            "min_height": null,
            "min_width": null,
            "object_fit": null,
            "object_position": null,
            "order": null,
            "overflow": null,
            "overflow_x": null,
            "overflow_y": null,
            "padding": null,
            "right": null,
            "top": null,
            "visibility": null,
            "width": null
          }
        },
        "d12fdf97fb594a0896593bdfc6c2cc48": {
          "model_module": "@jupyter-widgets/controls",
          "model_name": "DescriptionStyleModel",
          "model_module_version": "1.5.0",
          "state": {
            "_model_module": "@jupyter-widgets/controls",
            "_model_module_version": "1.5.0",
            "_model_name": "DescriptionStyleModel",
            "_view_count": null,
            "_view_module": "@jupyter-widgets/base",
            "_view_module_version": "1.2.0",
            "_view_name": "StyleView",
            "description_width": ""
          }
        },
        "2093cde86a754a71b17a93fa19cd6a8c": {
          "model_module": "@jupyter-widgets/controls",
          "model_name": "HBoxModel",
          "model_module_version": "1.5.0",
          "state": {
            "_dom_classes": [],
            "_model_module": "@jupyter-widgets/controls",
            "_model_module_version": "1.5.0",
            "_model_name": "HBoxModel",
            "_view_count": null,
            "_view_module": "@jupyter-widgets/controls",
            "_view_module_version": "1.5.0",
            "_view_name": "HBoxView",
            "box_style": "",
            "children": [
              "IPY_MODEL_1a740bb8a9ee436389170d259053df7f",
              "IPY_MODEL_237076d2a6d147b2a3ab521eefa0ffc4",
              "IPY_MODEL_5155f3e30ab24effae82fbda699448e4"
            ],
            "layout": "IPY_MODEL_3532ae75e8d34d55843f6d3e09a5a200"
          }
        },
        "1a740bb8a9ee436389170d259053df7f": {
          "model_module": "@jupyter-widgets/controls",
          "model_name": "HTMLModel",
          "model_module_version": "1.5.0",
          "state": {
            "_dom_classes": [],
            "_model_module": "@jupyter-widgets/controls",
            "_model_module_version": "1.5.0",
            "_model_name": "HTMLModel",
            "_view_count": null,
            "_view_module": "@jupyter-widgets/controls",
            "_view_module_version": "1.5.0",
            "_view_name": "HTMLView",
            "description": "",
            "description_tooltip": null,
            "layout": "IPY_MODEL_cdfda1f97f6d43baa329918dfc380417",
            "placeholder": "​",
            "style": "IPY_MODEL_0862967df385467bb95b6481140a7c3e",
            "value": "model.safetensors: 100%"
          }
        },
        "237076d2a6d147b2a3ab521eefa0ffc4": {
          "model_module": "@jupyter-widgets/controls",
          "model_name": "FloatProgressModel",
          "model_module_version": "1.5.0",
          "state": {
            "_dom_classes": [],
            "_model_module": "@jupyter-widgets/controls",
            "_model_module_version": "1.5.0",
            "_model_name": "FloatProgressModel",
            "_view_count": null,
            "_view_module": "@jupyter-widgets/controls",
            "_view_module_version": "1.5.0",
            "_view_name": "ProgressView",
            "bar_style": "success",
            "description": "",
            "description_tooltip": null,
            "layout": "IPY_MODEL_0e4b27fb8b974507beb69efd69f03cce",
            "max": 440449768,
            "min": 0,
            "orientation": "horizontal",
            "style": "IPY_MODEL_d05e799951674045baee282d0823a8dd",
            "value": 440449768
          }
        },
        "5155f3e30ab24effae82fbda699448e4": {
          "model_module": "@jupyter-widgets/controls",
          "model_name": "HTMLModel",
          "model_module_version": "1.5.0",
          "state": {
            "_dom_classes": [],
            "_model_module": "@jupyter-widgets/controls",
            "_model_module_version": "1.5.0",
            "_model_name": "HTMLModel",
            "_view_count": null,
            "_view_module": "@jupyter-widgets/controls",
            "_view_module_version": "1.5.0",
            "_view_name": "HTMLView",
            "description": "",
            "description_tooltip": null,
            "layout": "IPY_MODEL_b4d73721aabc4385933855dabbbbcd53",
            "placeholder": "​",
            "style": "IPY_MODEL_e4972022d5ee4032bbd774823d10a2e4",
            "value": " 440M/440M [00:05&lt;00:00, 112MB/s]"
          }
        },
        "3532ae75e8d34d55843f6d3e09a5a200": {
          "model_module": "@jupyter-widgets/base",
          "model_name": "LayoutModel",
          "model_module_version": "1.2.0",
          "state": {
            "_model_module": "@jupyter-widgets/base",
            "_model_module_version": "1.2.0",
            "_model_name": "LayoutModel",
            "_view_count": null,
            "_view_module": "@jupyter-widgets/base",
            "_view_module_version": "1.2.0",
            "_view_name": "LayoutView",
            "align_content": null,
            "align_items": null,
            "align_self": null,
            "border": null,
            "bottom": null,
            "display": null,
            "flex": null,
            "flex_flow": null,
            "grid_area": null,
            "grid_auto_columns": null,
            "grid_auto_flow": null,
            "grid_auto_rows": null,
            "grid_column": null,
            "grid_gap": null,
            "grid_row": null,
            "grid_template_areas": null,
            "grid_template_columns": null,
            "grid_template_rows": null,
            "height": null,
            "justify_content": null,
            "justify_items": null,
            "left": null,
            "margin": null,
            "max_height": null,
            "max_width": null,
            "min_height": null,
            "min_width": null,
            "object_fit": null,
            "object_position": null,
            "order": null,
            "overflow": null,
            "overflow_x": null,
            "overflow_y": null,
            "padding": null,
            "right": null,
            "top": null,
            "visibility": null,
            "width": null
          }
        },
        "cdfda1f97f6d43baa329918dfc380417": {
          "model_module": "@jupyter-widgets/base",
          "model_name": "LayoutModel",
          "model_module_version": "1.2.0",
          "state": {
            "_model_module": "@jupyter-widgets/base",
            "_model_module_version": "1.2.0",
            "_model_name": "LayoutModel",
            "_view_count": null,
            "_view_module": "@jupyter-widgets/base",
            "_view_module_version": "1.2.0",
            "_view_name": "LayoutView",
            "align_content": null,
            "align_items": null,
            "align_self": null,
            "border": null,
            "bottom": null,
            "display": null,
            "flex": null,
            "flex_flow": null,
            "grid_area": null,
            "grid_auto_columns": null,
            "grid_auto_flow": null,
            "grid_auto_rows": null,
            "grid_column": null,
            "grid_gap": null,
            "grid_row": null,
            "grid_template_areas": null,
            "grid_template_columns": null,
            "grid_template_rows": null,
            "height": null,
            "justify_content": null,
            "justify_items": null,
            "left": null,
            "margin": null,
            "max_height": null,
            "max_width": null,
            "min_height": null,
            "min_width": null,
            "object_fit": null,
            "object_position": null,
            "order": null,
            "overflow": null,
            "overflow_x": null,
            "overflow_y": null,
            "padding": null,
            "right": null,
            "top": null,
            "visibility": null,
            "width": null
          }
        },
        "0862967df385467bb95b6481140a7c3e": {
          "model_module": "@jupyter-widgets/controls",
          "model_name": "DescriptionStyleModel",
          "model_module_version": "1.5.0",
          "state": {
            "_model_module": "@jupyter-widgets/controls",
            "_model_module_version": "1.5.0",
            "_model_name": "DescriptionStyleModel",
            "_view_count": null,
            "_view_module": "@jupyter-widgets/base",
            "_view_module_version": "1.2.0",
            "_view_name": "StyleView",
            "description_width": ""
          }
        },
        "0e4b27fb8b974507beb69efd69f03cce": {
          "model_module": "@jupyter-widgets/base",
          "model_name": "LayoutModel",
          "model_module_version": "1.2.0",
          "state": {
            "_model_module": "@jupyter-widgets/base",
            "_model_module_version": "1.2.0",
            "_model_name": "LayoutModel",
            "_view_count": null,
            "_view_module": "@jupyter-widgets/base",
            "_view_module_version": "1.2.0",
            "_view_name": "LayoutView",
            "align_content": null,
            "align_items": null,
            "align_self": null,
            "border": null,
            "bottom": null,
            "display": null,
            "flex": null,
            "flex_flow": null,
            "grid_area": null,
            "grid_auto_columns": null,
            "grid_auto_flow": null,
            "grid_auto_rows": null,
            "grid_column": null,
            "grid_gap": null,
            "grid_row": null,
            "grid_template_areas": null,
            "grid_template_columns": null,
            "grid_template_rows": null,
            "height": null,
            "justify_content": null,
            "justify_items": null,
            "left": null,
            "margin": null,
            "max_height": null,
            "max_width": null,
            "min_height": null,
            "min_width": null,
            "object_fit": null,
            "object_position": null,
            "order": null,
            "overflow": null,
            "overflow_x": null,
            "overflow_y": null,
            "padding": null,
            "right": null,
            "top": null,
            "visibility": null,
            "width": null
          }
        },
        "d05e799951674045baee282d0823a8dd": {
          "model_module": "@jupyter-widgets/controls",
          "model_name": "ProgressStyleModel",
          "model_module_version": "1.5.0",
          "state": {
            "_model_module": "@jupyter-widgets/controls",
            "_model_module_version": "1.5.0",
            "_model_name": "ProgressStyleModel",
            "_view_count": null,
            "_view_module": "@jupyter-widgets/base",
            "_view_module_version": "1.2.0",
            "_view_name": "StyleView",
            "bar_color": null,
            "description_width": ""
          }
        },
        "b4d73721aabc4385933855dabbbbcd53": {
          "model_module": "@jupyter-widgets/base",
          "model_name": "LayoutModel",
          "model_module_version": "1.2.0",
          "state": {
            "_model_module": "@jupyter-widgets/base",
            "_model_module_version": "1.2.0",
            "_model_name": "LayoutModel",
            "_view_count": null,
            "_view_module": "@jupyter-widgets/base",
            "_view_module_version": "1.2.0",
            "_view_name": "LayoutView",
            "align_content": null,
            "align_items": null,
            "align_self": null,
            "border": null,
            "bottom": null,
            "display": null,
            "flex": null,
            "flex_flow": null,
            "grid_area": null,
            "grid_auto_columns": null,
            "grid_auto_flow": null,
            "grid_auto_rows": null,
            "grid_column": null,
            "grid_gap": null,
            "grid_row": null,
            "grid_template_areas": null,
            "grid_template_columns": null,
            "grid_template_rows": null,
            "height": null,
            "justify_content": null,
            "justify_items": null,
            "left": null,
            "margin": null,
            "max_height": null,
            "max_width": null,
            "min_height": null,
            "min_width": null,
            "object_fit": null,
            "object_position": null,
            "order": null,
            "overflow": null,
            "overflow_x": null,
            "overflow_y": null,
            "padding": null,
            "right": null,
            "top": null,
            "visibility": null,
            "width": null
          }
        },
        "e4972022d5ee4032bbd774823d10a2e4": {
          "model_module": "@jupyter-widgets/controls",
          "model_name": "DescriptionStyleModel",
          "model_module_version": "1.5.0",
          "state": {
            "_model_module": "@jupyter-widgets/controls",
            "_model_module_version": "1.5.0",
            "_model_name": "DescriptionStyleModel",
            "_view_count": null,
            "_view_module": "@jupyter-widgets/base",
            "_view_module_version": "1.2.0",
            "_view_name": "StyleView",
            "description_width": ""
          }
        }
      }
    }
  },
  "nbformat": 4,
  "nbformat_minor": 0
}